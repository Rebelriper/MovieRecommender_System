{
 "cells": [
  {
   "cell_type": "code",
   "execution_count": 1,
   "id": "a14e340b-b929-47cb-b0d2-211b183f2ba7",
   "metadata": {},
   "outputs": [],
   "source": [
    "import pandas as pd \n",
    "import numpy as np\n",
    "import matplotlib.pyplot as plt\n",
    "import os"
   ]
  },
  {
   "cell_type": "code",
   "execution_count": 46,
   "id": "b5948b7c-8273-40e9-ac8a-e219c62e380c",
   "metadata": {
    "scrolled": true
   },
   "outputs": [
    {
     "data": {
      "text/html": [
       "<div>\n",
       "<style scoped>\n",
       "    .dataframe tbody tr th:only-of-type {\n",
       "        vertical-align: middle;\n",
       "    }\n",
       "\n",
       "    .dataframe tbody tr th {\n",
       "        vertical-align: top;\n",
       "    }\n",
       "\n",
       "    .dataframe thead th {\n",
       "        text-align: right;\n",
       "    }\n",
       "</style>\n",
       "<table border=\"1\" class=\"dataframe\">\n",
       "  <thead>\n",
       "    <tr style=\"text-align: right;\">\n",
       "      <th></th>\n",
       "      <th>index</th>\n",
       "      <th>title</th>\n",
       "      <th>original_language</th>\n",
       "      <th>release_date</th>\n",
       "      <th>popularity</th>\n",
       "      <th>vote_average</th>\n",
       "      <th>vote_count</th>\n",
       "      <th>overview</th>\n",
       "    </tr>\n",
       "  </thead>\n",
       "  <tbody>\n",
       "    <tr>\n",
       "      <th>0</th>\n",
       "      <td>0</td>\n",
       "      <td>Spider-Man: Across the Spider-Verse</td>\n",
       "      <td>en</td>\n",
       "      <td>31-05-2023</td>\n",
       "      <td>3368.627</td>\n",
       "      <td>8.5</td>\n",
       "      <td>3386</td>\n",
       "      <td>After reuniting with Gwen Stacy, Brooklyn’s fu...</td>\n",
       "    </tr>\n",
       "    <tr>\n",
       "      <th>1</th>\n",
       "      <td>1</td>\n",
       "      <td>Transformers: Rise of the Beasts</td>\n",
       "      <td>en</td>\n",
       "      <td>06-06-2023</td>\n",
       "      <td>2160.316</td>\n",
       "      <td>7.5</td>\n",
       "      <td>2747</td>\n",
       "      <td>When a new threat capable of destroying the en...</td>\n",
       "    </tr>\n",
       "    <tr>\n",
       "      <th>2</th>\n",
       "      <td>2</td>\n",
       "      <td>The Flash</td>\n",
       "      <td>en</td>\n",
       "      <td>13-06-2023</td>\n",
       "      <td>2108.713</td>\n",
       "      <td>7.0</td>\n",
       "      <td>2305</td>\n",
       "      <td>When his attempt to save his family inadverten...</td>\n",
       "    </tr>\n",
       "    <tr>\n",
       "      <th>3</th>\n",
       "      <td>3</td>\n",
       "      <td>No Hard Feelings</td>\n",
       "      <td>en</td>\n",
       "      <td>15-06-2023</td>\n",
       "      <td>1978.358</td>\n",
       "      <td>7.1</td>\n",
       "      <td>562</td>\n",
       "      <td>On the brink of losing her childhood home, Mad...</td>\n",
       "    </tr>\n",
       "    <tr>\n",
       "      <th>4</th>\n",
       "      <td>4</td>\n",
       "      <td>Barbie</td>\n",
       "      <td>en</td>\n",
       "      <td>19-07-2023</td>\n",
       "      <td>1976.513</td>\n",
       "      <td>7.5</td>\n",
       "      <td>3013</td>\n",
       "      <td>Barbie and Ken are having the time of their li...</td>\n",
       "    </tr>\n",
       "  </tbody>\n",
       "</table>\n",
       "</div>"
      ],
      "text/plain": [
       "   index                                title original_language release_date  \\\n",
       "0      0  Spider-Man: Across the Spider-Verse                en   31-05-2023   \n",
       "1      1     Transformers: Rise of the Beasts                en   06-06-2023   \n",
       "2      2                            The Flash                en   13-06-2023   \n",
       "3      3                     No Hard Feelings                en   15-06-2023   \n",
       "4      4                               Barbie                en   19-07-2023   \n",
       "\n",
       "   popularity  vote_average  vote_count  \\\n",
       "0    3368.627           8.5        3386   \n",
       "1    2160.316           7.5        2747   \n",
       "2    2108.713           7.0        2305   \n",
       "3    1978.358           7.1         562   \n",
       "4    1976.513           7.5        3013   \n",
       "\n",
       "                                            overview  \n",
       "0  After reuniting with Gwen Stacy, Brooklyn’s fu...  \n",
       "1  When a new threat capable of destroying the en...  \n",
       "2  When his attempt to save his family inadverten...  \n",
       "3  On the brink of losing her childhood home, Mad...  \n",
       "4  Barbie and Ken are having the time of their li...  "
      ]
     },
     "execution_count": 46,
     "metadata": {},
     "output_type": "execute_result"
    }
   ],
   "source": [
    "dt=pd.read_csv('Movies_dataset.csv')\n",
    "dt.head()"
   ]
  },
  {
   "cell_type": "code",
   "execution_count": 3,
   "id": "ce10c4c7-eda1-463c-b575-b8a8914f293b",
   "metadata": {},
   "outputs": [
    {
     "data": {
      "text/plain": [
       "(722480, 20)"
      ]
     },
     "execution_count": 3,
     "metadata": {},
     "output_type": "execute_result"
    }
   ],
   "source": [
    "dt.shape"
   ]
  },
  {
   "cell_type": "code",
   "execution_count": 47,
   "id": "6c592576-d80c-4e9c-b25d-b875cc521e26",
   "metadata": {},
   "outputs": [
    {
     "data": {
      "text/plain": [
       "Index(['index', 'title', 'original_language', 'release_date', 'popularity',\n",
       "       'vote_average', 'vote_count', 'overview'],\n",
       "      dtype='object')"
      ]
     },
     "execution_count": 47,
     "metadata": {},
     "output_type": "execute_result"
    }
   ],
   "source": [
    "dt.columns"
   ]
  },
  {
   "cell_type": "code",
   "execution_count": 5,
   "id": "b25083e3-618c-4573-887c-7379b0e7760e",
   "metadata": {},
   "outputs": [],
   "source": [
    "#dt=dt.drop(['budget_x','revenue'],axis=1)"
   ]
  },
  {
   "cell_type": "code",
   "execution_count": 6,
   "id": "3b1cab5a-eb2d-4508-b108-38915e91c4c1",
   "metadata": {},
   "outputs": [
    {
     "data": {
      "text/html": [
       "<div>\n",
       "<style scoped>\n",
       "    .dataframe tbody tr th:only-of-type {\n",
       "        vertical-align: middle;\n",
       "    }\n",
       "\n",
       "    .dataframe tbody tr th {\n",
       "        vertical-align: top;\n",
       "    }\n",
       "\n",
       "    .dataframe thead th {\n",
       "        text-align: right;\n",
       "    }\n",
       "</style>\n",
       "<table border=\"1\" class=\"dataframe\">\n",
       "  <thead>\n",
       "    <tr style=\"text-align: right;\">\n",
       "      <th></th>\n",
       "      <th>id</th>\n",
       "      <th>title</th>\n",
       "      <th>genres</th>\n",
       "      <th>original_language</th>\n",
       "      <th>overview</th>\n",
       "      <th>popularity</th>\n",
       "      <th>production_companies</th>\n",
       "      <th>release_date</th>\n",
       "      <th>budget</th>\n",
       "      <th>revenue</th>\n",
       "      <th>runtime</th>\n",
       "      <th>status</th>\n",
       "      <th>tagline</th>\n",
       "      <th>vote_average</th>\n",
       "      <th>vote_count</th>\n",
       "      <th>credits</th>\n",
       "      <th>keywords</th>\n",
       "      <th>poster_path</th>\n",
       "      <th>backdrop_path</th>\n",
       "      <th>recommendations</th>\n",
       "    </tr>\n",
       "  </thead>\n",
       "  <tbody>\n",
       "    <tr>\n",
       "      <th>0</th>\n",
       "      <td>615656</td>\n",
       "      <td>Meg 2: The Trench</td>\n",
       "      <td>Action-Science Fiction-Horror</td>\n",
       "      <td>en</td>\n",
       "      <td>An exploratory dive into the deepest depths of...</td>\n",
       "      <td>8763.998</td>\n",
       "      <td>Apelles Entertainment-Warner Bros. Pictures-di...</td>\n",
       "      <td>2023-08-02</td>\n",
       "      <td>129000000.0</td>\n",
       "      <td>352056482.0</td>\n",
       "      <td>116.0</td>\n",
       "      <td>Released</td>\n",
       "      <td>Back for seconds.</td>\n",
       "      <td>7.079</td>\n",
       "      <td>1365.0</td>\n",
       "      <td>Jason Statham-Wu Jing-Shuya Sophia Cai-Sergio ...</td>\n",
       "      <td>based on novel or book-sequel-kaiju</td>\n",
       "      <td>/4m1Au3YkjqsxF8iwQy0fPYSxE0h.jpg</td>\n",
       "      <td>/qlxy8yo5bcgUw2KAmmojUKp4rHd.jpg</td>\n",
       "      <td>1006462-298618-569094-1061181-346698-1076487-6...</td>\n",
       "    </tr>\n",
       "    <tr>\n",
       "      <th>1</th>\n",
       "      <td>758323</td>\n",
       "      <td>The Pope's Exorcist</td>\n",
       "      <td>Horror-Mystery-Thriller</td>\n",
       "      <td>en</td>\n",
       "      <td>Father Gabriele Amorth Chief Exorcist of the V...</td>\n",
       "      <td>5953.227</td>\n",
       "      <td>Screen Gems-2.0 Entertainment-Jesus &amp; Mary-Wor...</td>\n",
       "      <td>2023-04-05</td>\n",
       "      <td>18000000.0</td>\n",
       "      <td>65675816.0</td>\n",
       "      <td>103.0</td>\n",
       "      <td>Released</td>\n",
       "      <td>Inspired by the actual files of Father Gabriel...</td>\n",
       "      <td>7.433</td>\n",
       "      <td>545.0</td>\n",
       "      <td>Russell Crowe-Daniel Zovatto-Alex Essoe-Franco...</td>\n",
       "      <td>spain-rome italy-vatican-pope-pig-possession-c...</td>\n",
       "      <td>/9JBEPLTPSm0d1mbEcLxULjJq9Eh.jpg</td>\n",
       "      <td>/hiHGRbyTcbZoLsYYkO4QiCLYe34.jpg</td>\n",
       "      <td>713704-296271-502356-1076605-1084225-1008005-9...</td>\n",
       "    </tr>\n",
       "    <tr>\n",
       "      <th>2</th>\n",
       "      <td>667538</td>\n",
       "      <td>Transformers: Rise of the Beasts</td>\n",
       "      <td>Action-Adventure-Science Fiction</td>\n",
       "      <td>en</td>\n",
       "      <td>When a new threat capable of destroying the en...</td>\n",
       "      <td>5409.104</td>\n",
       "      <td>Skydance-Paramount-di Bonaventura Pictures-Bay...</td>\n",
       "      <td>2023-06-06</td>\n",
       "      <td>200000000.0</td>\n",
       "      <td>407045464.0</td>\n",
       "      <td>127.0</td>\n",
       "      <td>Released</td>\n",
       "      <td>Unite or fall.</td>\n",
       "      <td>7.340</td>\n",
       "      <td>1007.0</td>\n",
       "      <td>Anthony Ramos-Dominique Fishback-Luna Lauren V...</td>\n",
       "      <td>peru-alien-end of the world-based on cartoon-b...</td>\n",
       "      <td>/gPbM0MK8CP8A174rmUwGsADNYKD.jpg</td>\n",
       "      <td>/woJbg7ZqidhpvqFGGMRhWQNoxwa.jpg</td>\n",
       "      <td>496450-569094-298618-385687-877100-598331-4628...</td>\n",
       "    </tr>\n",
       "    <tr>\n",
       "      <th>3</th>\n",
       "      <td>640146</td>\n",
       "      <td>Ant-Man and the Wasp: Quantumania</td>\n",
       "      <td>Action-Adventure-Science Fiction</td>\n",
       "      <td>en</td>\n",
       "      <td>Super-Hero partners Scott Lang and Hope van Dy...</td>\n",
       "      <td>4425.387</td>\n",
       "      <td>Marvel Studios-Kevin Feige Productions</td>\n",
       "      <td>2023-02-15</td>\n",
       "      <td>200000000.0</td>\n",
       "      <td>475766228.0</td>\n",
       "      <td>125.0</td>\n",
       "      <td>Released</td>\n",
       "      <td>Witness the beginning of a new dynasty.</td>\n",
       "      <td>6.507</td>\n",
       "      <td>2811.0</td>\n",
       "      <td>Paul Rudd-Evangeline Lilly-Jonathan Majors-Kat...</td>\n",
       "      <td>hero-ant-sequel-superhero-based on comic-famil...</td>\n",
       "      <td>/qnqGbB22YJ7dSs4o6M7exTpNxPz.jpg</td>\n",
       "      <td>/m8JTwHFwX7I7JY5fPe4SjqejWag.jpg</td>\n",
       "      <td>823999-676841-868759-734048-267805-965839-1033...</td>\n",
       "    </tr>\n",
       "    <tr>\n",
       "      <th>4</th>\n",
       "      <td>677179</td>\n",
       "      <td>Creed III</td>\n",
       "      <td>Drama-Action</td>\n",
       "      <td>en</td>\n",
       "      <td>After dominating the boxing world Adonis Creed...</td>\n",
       "      <td>3994.342</td>\n",
       "      <td>Metro-Goldwyn-Mayer-Proximity Media-Balboa Pro...</td>\n",
       "      <td>2023-03-01</td>\n",
       "      <td>75000000.0</td>\n",
       "      <td>269000000.0</td>\n",
       "      <td>116.0</td>\n",
       "      <td>Released</td>\n",
       "      <td>You can't run from your past.</td>\n",
       "      <td>7.262</td>\n",
       "      <td>1129.0</td>\n",
       "      <td>Michael B. Jordan-Tessa Thompson-Jonathan Majo...</td>\n",
       "      <td>philadelphia pennsylvania-husband wife relatio...</td>\n",
       "      <td>/cvsXj3I9Q2iyyIo95AecSd1tad7.jpg</td>\n",
       "      <td>/5i6SjyDbDWqyun8klUuCxrlFbyw.jpg</td>\n",
       "      <td>965839-267805-943822-842942-1035806-823999-107...</td>\n",
       "    </tr>\n",
       "  </tbody>\n",
       "</table>\n",
       "</div>"
      ],
      "text/plain": [
       "       id                              title  \\\n",
       "0  615656                  Meg 2: The Trench   \n",
       "1  758323                The Pope's Exorcist   \n",
       "2  667538   Transformers: Rise of the Beasts   \n",
       "3  640146  Ant-Man and the Wasp: Quantumania   \n",
       "4  677179                          Creed III   \n",
       "\n",
       "                             genres original_language  \\\n",
       "0     Action-Science Fiction-Horror                en   \n",
       "1           Horror-Mystery-Thriller                en   \n",
       "2  Action-Adventure-Science Fiction                en   \n",
       "3  Action-Adventure-Science Fiction                en   \n",
       "4                      Drama-Action                en   \n",
       "\n",
       "                                            overview  popularity  \\\n",
       "0  An exploratory dive into the deepest depths of...    8763.998   \n",
       "1  Father Gabriele Amorth Chief Exorcist of the V...    5953.227   \n",
       "2  When a new threat capable of destroying the en...    5409.104   \n",
       "3  Super-Hero partners Scott Lang and Hope van Dy...    4425.387   \n",
       "4  After dominating the boxing world Adonis Creed...    3994.342   \n",
       "\n",
       "                                production_companies release_date  \\\n",
       "0  Apelles Entertainment-Warner Bros. Pictures-di...   2023-08-02   \n",
       "1  Screen Gems-2.0 Entertainment-Jesus & Mary-Wor...   2023-04-05   \n",
       "2  Skydance-Paramount-di Bonaventura Pictures-Bay...   2023-06-06   \n",
       "3             Marvel Studios-Kevin Feige Productions   2023-02-15   \n",
       "4  Metro-Goldwyn-Mayer-Proximity Media-Balboa Pro...   2023-03-01   \n",
       "\n",
       "        budget      revenue  runtime    status  \\\n",
       "0  129000000.0  352056482.0    116.0  Released   \n",
       "1   18000000.0   65675816.0    103.0  Released   \n",
       "2  200000000.0  407045464.0    127.0  Released   \n",
       "3  200000000.0  475766228.0    125.0  Released   \n",
       "4   75000000.0  269000000.0    116.0  Released   \n",
       "\n",
       "                                             tagline  vote_average  \\\n",
       "0                                  Back for seconds.         7.079   \n",
       "1  Inspired by the actual files of Father Gabriel...         7.433   \n",
       "2                                     Unite or fall.         7.340   \n",
       "3            Witness the beginning of a new dynasty.         6.507   \n",
       "4                      You can't run from your past.         7.262   \n",
       "\n",
       "   vote_count                                            credits  \\\n",
       "0      1365.0  Jason Statham-Wu Jing-Shuya Sophia Cai-Sergio ...   \n",
       "1       545.0  Russell Crowe-Daniel Zovatto-Alex Essoe-Franco...   \n",
       "2      1007.0  Anthony Ramos-Dominique Fishback-Luna Lauren V...   \n",
       "3      2811.0  Paul Rudd-Evangeline Lilly-Jonathan Majors-Kat...   \n",
       "4      1129.0  Michael B. Jordan-Tessa Thompson-Jonathan Majo...   \n",
       "\n",
       "                                            keywords  \\\n",
       "0                based on novel or book-sequel-kaiju   \n",
       "1  spain-rome italy-vatican-pope-pig-possession-c...   \n",
       "2  peru-alien-end of the world-based on cartoon-b...   \n",
       "3  hero-ant-sequel-superhero-based on comic-famil...   \n",
       "4  philadelphia pennsylvania-husband wife relatio...   \n",
       "\n",
       "                        poster_path                     backdrop_path  \\\n",
       "0  /4m1Au3YkjqsxF8iwQy0fPYSxE0h.jpg  /qlxy8yo5bcgUw2KAmmojUKp4rHd.jpg   \n",
       "1  /9JBEPLTPSm0d1mbEcLxULjJq9Eh.jpg  /hiHGRbyTcbZoLsYYkO4QiCLYe34.jpg   \n",
       "2  /gPbM0MK8CP8A174rmUwGsADNYKD.jpg  /woJbg7ZqidhpvqFGGMRhWQNoxwa.jpg   \n",
       "3  /qnqGbB22YJ7dSs4o6M7exTpNxPz.jpg  /m8JTwHFwX7I7JY5fPe4SjqejWag.jpg   \n",
       "4  /cvsXj3I9Q2iyyIo95AecSd1tad7.jpg  /5i6SjyDbDWqyun8klUuCxrlFbyw.jpg   \n",
       "\n",
       "                                     recommendations  \n",
       "0  1006462-298618-569094-1061181-346698-1076487-6...  \n",
       "1  713704-296271-502356-1076605-1084225-1008005-9...  \n",
       "2  496450-569094-298618-385687-877100-598331-4628...  \n",
       "3  823999-676841-868759-734048-267805-965839-1033...  \n",
       "4  965839-267805-943822-842942-1035806-823999-107...  "
      ]
     },
     "execution_count": 6,
     "metadata": {},
     "output_type": "execute_result"
    }
   ],
   "source": [
    "dt.head()"
   ]
  },
  {
   "cell_type": "code",
   "execution_count": 7,
   "id": "3d81590d-8077-48c6-8293-5ce4f2636fb3",
   "metadata": {},
   "outputs": [
    {
     "data": {
      "text/plain": [
       "id                           0\n",
       "title                        6\n",
       "genres                  210502\n",
       "original_language            0\n",
       "overview                118362\n",
       "popularity                   0\n",
       "production_companies    385224\n",
       "release_date             51888\n",
       "budget                       0\n",
       "revenue                      0\n",
       "runtime                  34370\n",
       "status                       0\n",
       "tagline                 614163\n",
       "vote_average                 0\n",
       "vote_count                   0\n",
       "credits                 224876\n",
       "keywords                512029\n",
       "poster_path             184768\n",
       "backdrop_path           499590\n",
       "recommendations         687585\n",
       "dtype: int64"
      ]
     },
     "execution_count": 7,
     "metadata": {},
     "output_type": "execute_result"
    }
   ],
   "source": [
    "dt.isnull().sum()"
   ]
  },
  {
   "cell_type": "code",
   "execution_count": 8,
   "id": "dcf2c677-a512-46d0-8a21-c57292200afd",
   "metadata": {},
   "outputs": [],
   "source": [
    "dt.dropna(inplace=True)\n"
   ]
  },
  {
   "cell_type": "code",
   "execution_count": 9,
   "id": "3250e857-b055-45b8-ba37-b961193039d5",
   "metadata": {},
   "outputs": [
    {
     "data": {
      "text/plain": [
       "Index(['id', 'title', 'genres', 'original_language', 'overview', 'popularity',\n",
       "       'production_companies', 'release_date', 'budget', 'revenue', 'runtime',\n",
       "       'status', 'tagline', 'vote_average', 'vote_count', 'credits',\n",
       "       'keywords', 'poster_path', 'backdrop_path', 'recommendations'],\n",
       "      dtype='object')"
      ]
     },
     "execution_count": 9,
     "metadata": {},
     "output_type": "execute_result"
    }
   ],
   "source": [
    "dt.columns"
   ]
  },
  {
   "cell_type": "code",
   "execution_count": 11,
   "id": "c8d7fb1a-8c6f-43d5-b8dc-f38ab3715fbe",
   "metadata": {},
   "outputs": [
    {
     "data": {
      "text/html": [
       "<div>\n",
       "<style scoped>\n",
       "    .dataframe tbody tr th:only-of-type {\n",
       "        vertical-align: middle;\n",
       "    }\n",
       "\n",
       "    .dataframe tbody tr th {\n",
       "        vertical-align: top;\n",
       "    }\n",
       "\n",
       "    .dataframe thead th {\n",
       "        text-align: right;\n",
       "    }\n",
       "</style>\n",
       "<table border=\"1\" class=\"dataframe\">\n",
       "  <thead>\n",
       "    <tr style=\"text-align: right;\">\n",
       "      <th></th>\n",
       "      <th>id</th>\n",
       "      <th>title</th>\n",
       "      <th>genres</th>\n",
       "      <th>original_language</th>\n",
       "      <th>overview</th>\n",
       "      <th>popularity</th>\n",
       "      <th>production_companies</th>\n",
       "      <th>release_date</th>\n",
       "      <th>budget</th>\n",
       "      <th>revenue</th>\n",
       "      <th>...</th>\n",
       "      <th>status</th>\n",
       "      <th>tagline</th>\n",
       "      <th>vote_average</th>\n",
       "      <th>vote_count</th>\n",
       "      <th>credits</th>\n",
       "      <th>keywords</th>\n",
       "      <th>poster_path</th>\n",
       "      <th>backdrop_path</th>\n",
       "      <th>recommendations</th>\n",
       "      <th>tags</th>\n",
       "    </tr>\n",
       "  </thead>\n",
       "  <tbody>\n",
       "    <tr>\n",
       "      <th>0</th>\n",
       "      <td>615656</td>\n",
       "      <td>Meg 2: The Trench</td>\n",
       "      <td>Action-Science Fiction-Horror</td>\n",
       "      <td>en</td>\n",
       "      <td>An exploratory dive into the deepest depths of...</td>\n",
       "      <td>8763.998</td>\n",
       "      <td>Apelles Entertainment-Warner Bros. Pictures-di...</td>\n",
       "      <td>2023-08-02</td>\n",
       "      <td>129000000.0</td>\n",
       "      <td>352056482.0</td>\n",
       "      <td>...</td>\n",
       "      <td>Released</td>\n",
       "      <td>Back for seconds.</td>\n",
       "      <td>7.079</td>\n",
       "      <td>1365.0</td>\n",
       "      <td>Jason Statham-Wu Jing-Shuya Sophia Cai-Sergio ...</td>\n",
       "      <td>based on novel or book-sequel-kaiju</td>\n",
       "      <td>/4m1Au3YkjqsxF8iwQy0fPYSxE0h.jpg</td>\n",
       "      <td>/qlxy8yo5bcgUw2KAmmojUKp4rHd.jpg</td>\n",
       "      <td>1006462-298618-569094-1061181-346698-1076487-6...</td>\n",
       "      <td>615656Meg 2: The TrenchAction-Science Fiction-...</td>\n",
       "    </tr>\n",
       "    <tr>\n",
       "      <th>1</th>\n",
       "      <td>758323</td>\n",
       "      <td>The Pope's Exorcist</td>\n",
       "      <td>Horror-Mystery-Thriller</td>\n",
       "      <td>en</td>\n",
       "      <td>Father Gabriele Amorth Chief Exorcist of the V...</td>\n",
       "      <td>5953.227</td>\n",
       "      <td>Screen Gems-2.0 Entertainment-Jesus &amp; Mary-Wor...</td>\n",
       "      <td>2023-04-05</td>\n",
       "      <td>18000000.0</td>\n",
       "      <td>65675816.0</td>\n",
       "      <td>...</td>\n",
       "      <td>Released</td>\n",
       "      <td>Inspired by the actual files of Father Gabriel...</td>\n",
       "      <td>7.433</td>\n",
       "      <td>545.0</td>\n",
       "      <td>Russell Crowe-Daniel Zovatto-Alex Essoe-Franco...</td>\n",
       "      <td>spain-rome italy-vatican-pope-pig-possession-c...</td>\n",
       "      <td>/9JBEPLTPSm0d1mbEcLxULjJq9Eh.jpg</td>\n",
       "      <td>/hiHGRbyTcbZoLsYYkO4QiCLYe34.jpg</td>\n",
       "      <td>713704-296271-502356-1076605-1084225-1008005-9...</td>\n",
       "      <td>758323The Pope's ExorcistHorror-Mystery-Thrill...</td>\n",
       "    </tr>\n",
       "    <tr>\n",
       "      <th>2</th>\n",
       "      <td>667538</td>\n",
       "      <td>Transformers: Rise of the Beasts</td>\n",
       "      <td>Action-Adventure-Science Fiction</td>\n",
       "      <td>en</td>\n",
       "      <td>When a new threat capable of destroying the en...</td>\n",
       "      <td>5409.104</td>\n",
       "      <td>Skydance-Paramount-di Bonaventura Pictures-Bay...</td>\n",
       "      <td>2023-06-06</td>\n",
       "      <td>200000000.0</td>\n",
       "      <td>407045464.0</td>\n",
       "      <td>...</td>\n",
       "      <td>Released</td>\n",
       "      <td>Unite or fall.</td>\n",
       "      <td>7.340</td>\n",
       "      <td>1007.0</td>\n",
       "      <td>Anthony Ramos-Dominique Fishback-Luna Lauren V...</td>\n",
       "      <td>peru-alien-end of the world-based on cartoon-b...</td>\n",
       "      <td>/gPbM0MK8CP8A174rmUwGsADNYKD.jpg</td>\n",
       "      <td>/woJbg7ZqidhpvqFGGMRhWQNoxwa.jpg</td>\n",
       "      <td>496450-569094-298618-385687-877100-598331-4628...</td>\n",
       "      <td>667538Transformers: Rise of the BeastsAction-A...</td>\n",
       "    </tr>\n",
       "    <tr>\n",
       "      <th>3</th>\n",
       "      <td>640146</td>\n",
       "      <td>Ant-Man and the Wasp: Quantumania</td>\n",
       "      <td>Action-Adventure-Science Fiction</td>\n",
       "      <td>en</td>\n",
       "      <td>Super-Hero partners Scott Lang and Hope van Dy...</td>\n",
       "      <td>4425.387</td>\n",
       "      <td>Marvel Studios-Kevin Feige Productions</td>\n",
       "      <td>2023-02-15</td>\n",
       "      <td>200000000.0</td>\n",
       "      <td>475766228.0</td>\n",
       "      <td>...</td>\n",
       "      <td>Released</td>\n",
       "      <td>Witness the beginning of a new dynasty.</td>\n",
       "      <td>6.507</td>\n",
       "      <td>2811.0</td>\n",
       "      <td>Paul Rudd-Evangeline Lilly-Jonathan Majors-Kat...</td>\n",
       "      <td>hero-ant-sequel-superhero-based on comic-famil...</td>\n",
       "      <td>/qnqGbB22YJ7dSs4o6M7exTpNxPz.jpg</td>\n",
       "      <td>/m8JTwHFwX7I7JY5fPe4SjqejWag.jpg</td>\n",
       "      <td>823999-676841-868759-734048-267805-965839-1033...</td>\n",
       "      <td>640146Ant-Man and the Wasp: QuantumaniaAction-...</td>\n",
       "    </tr>\n",
       "    <tr>\n",
       "      <th>4</th>\n",
       "      <td>677179</td>\n",
       "      <td>Creed III</td>\n",
       "      <td>Drama-Action</td>\n",
       "      <td>en</td>\n",
       "      <td>After dominating the boxing world Adonis Creed...</td>\n",
       "      <td>3994.342</td>\n",
       "      <td>Metro-Goldwyn-Mayer-Proximity Media-Balboa Pro...</td>\n",
       "      <td>2023-03-01</td>\n",
       "      <td>75000000.0</td>\n",
       "      <td>269000000.0</td>\n",
       "      <td>...</td>\n",
       "      <td>Released</td>\n",
       "      <td>You can't run from your past.</td>\n",
       "      <td>7.262</td>\n",
       "      <td>1129.0</td>\n",
       "      <td>Michael B. Jordan-Tessa Thompson-Jonathan Majo...</td>\n",
       "      <td>philadelphia pennsylvania-husband wife relatio...</td>\n",
       "      <td>/cvsXj3I9Q2iyyIo95AecSd1tad7.jpg</td>\n",
       "      <td>/5i6SjyDbDWqyun8klUuCxrlFbyw.jpg</td>\n",
       "      <td>965839-267805-943822-842942-1035806-823999-107...</td>\n",
       "      <td>677179Creed IIIDrama-ActionenAfter dominating ...</td>\n",
       "    </tr>\n",
       "  </tbody>\n",
       "</table>\n",
       "<p>5 rows × 21 columns</p>\n",
       "</div>"
      ],
      "text/plain": [
       "       id                              title  \\\n",
       "0  615656                  Meg 2: The Trench   \n",
       "1  758323                The Pope's Exorcist   \n",
       "2  667538   Transformers: Rise of the Beasts   \n",
       "3  640146  Ant-Man and the Wasp: Quantumania   \n",
       "4  677179                          Creed III   \n",
       "\n",
       "                             genres original_language  \\\n",
       "0     Action-Science Fiction-Horror                en   \n",
       "1           Horror-Mystery-Thriller                en   \n",
       "2  Action-Adventure-Science Fiction                en   \n",
       "3  Action-Adventure-Science Fiction                en   \n",
       "4                      Drama-Action                en   \n",
       "\n",
       "                                            overview  popularity  \\\n",
       "0  An exploratory dive into the deepest depths of...    8763.998   \n",
       "1  Father Gabriele Amorth Chief Exorcist of the V...    5953.227   \n",
       "2  When a new threat capable of destroying the en...    5409.104   \n",
       "3  Super-Hero partners Scott Lang and Hope van Dy...    4425.387   \n",
       "4  After dominating the boxing world Adonis Creed...    3994.342   \n",
       "\n",
       "                                production_companies release_date  \\\n",
       "0  Apelles Entertainment-Warner Bros. Pictures-di...   2023-08-02   \n",
       "1  Screen Gems-2.0 Entertainment-Jesus & Mary-Wor...   2023-04-05   \n",
       "2  Skydance-Paramount-di Bonaventura Pictures-Bay...   2023-06-06   \n",
       "3             Marvel Studios-Kevin Feige Productions   2023-02-15   \n",
       "4  Metro-Goldwyn-Mayer-Proximity Media-Balboa Pro...   2023-03-01   \n",
       "\n",
       "        budget      revenue  ...    status  \\\n",
       "0  129000000.0  352056482.0  ...  Released   \n",
       "1   18000000.0   65675816.0  ...  Released   \n",
       "2  200000000.0  407045464.0  ...  Released   \n",
       "3  200000000.0  475766228.0  ...  Released   \n",
       "4   75000000.0  269000000.0  ...  Released   \n",
       "\n",
       "                                             tagline vote_average  vote_count  \\\n",
       "0                                  Back for seconds.        7.079      1365.0   \n",
       "1  Inspired by the actual files of Father Gabriel...        7.433       545.0   \n",
       "2                                     Unite or fall.        7.340      1007.0   \n",
       "3            Witness the beginning of a new dynasty.        6.507      2811.0   \n",
       "4                      You can't run from your past.        7.262      1129.0   \n",
       "\n",
       "                                             credits  \\\n",
       "0  Jason Statham-Wu Jing-Shuya Sophia Cai-Sergio ...   \n",
       "1  Russell Crowe-Daniel Zovatto-Alex Essoe-Franco...   \n",
       "2  Anthony Ramos-Dominique Fishback-Luna Lauren V...   \n",
       "3  Paul Rudd-Evangeline Lilly-Jonathan Majors-Kat...   \n",
       "4  Michael B. Jordan-Tessa Thompson-Jonathan Majo...   \n",
       "\n",
       "                                            keywords  \\\n",
       "0                based on novel or book-sequel-kaiju   \n",
       "1  spain-rome italy-vatican-pope-pig-possession-c...   \n",
       "2  peru-alien-end of the world-based on cartoon-b...   \n",
       "3  hero-ant-sequel-superhero-based on comic-famil...   \n",
       "4  philadelphia pennsylvania-husband wife relatio...   \n",
       "\n",
       "                        poster_path                     backdrop_path  \\\n",
       "0  /4m1Au3YkjqsxF8iwQy0fPYSxE0h.jpg  /qlxy8yo5bcgUw2KAmmojUKp4rHd.jpg   \n",
       "1  /9JBEPLTPSm0d1mbEcLxULjJq9Eh.jpg  /hiHGRbyTcbZoLsYYkO4QiCLYe34.jpg   \n",
       "2  /gPbM0MK8CP8A174rmUwGsADNYKD.jpg  /woJbg7ZqidhpvqFGGMRhWQNoxwa.jpg   \n",
       "3  /qnqGbB22YJ7dSs4o6M7exTpNxPz.jpg  /m8JTwHFwX7I7JY5fPe4SjqejWag.jpg   \n",
       "4  /cvsXj3I9Q2iyyIo95AecSd1tad7.jpg  /5i6SjyDbDWqyun8klUuCxrlFbyw.jpg   \n",
       "\n",
       "                                     recommendations  \\\n",
       "0  1006462-298618-569094-1061181-346698-1076487-6...   \n",
       "1  713704-296271-502356-1076605-1084225-1008005-9...   \n",
       "2  496450-569094-298618-385687-877100-598331-4628...   \n",
       "3  823999-676841-868759-734048-267805-965839-1033...   \n",
       "4  965839-267805-943822-842942-1035806-823999-107...   \n",
       "\n",
       "                                                tags  \n",
       "0  615656Meg 2: The TrenchAction-Science Fiction-...  \n",
       "1  758323The Pope's ExorcistHorror-Mystery-Thrill...  \n",
       "2  667538Transformers: Rise of the BeastsAction-A...  \n",
       "3  640146Ant-Man and the Wasp: QuantumaniaAction-...  \n",
       "4  677179Creed IIIDrama-ActionenAfter dominating ...  \n",
       "\n",
       "[5 rows x 21 columns]"
      ]
     },
     "execution_count": 11,
     "metadata": {},
     "output_type": "execute_result"
    }
   ],
   "source": [
    "dt.head()"
   ]
  },
  {
   "cell_type": "code",
   "execution_count": 12,
   "id": "23c2b82e-36b6-4402-a023-8e8ee1e7ab90",
   "metadata": {},
   "outputs": [],
   "source": [
    "import nltk\n",
    "from nltk.stem import PorterStemmer"
   ]
  },
  {
   "cell_type": "code",
   "execution_count": 13,
   "id": "62648709-e37f-40fc-8268-fd2a3a938737",
   "metadata": {},
   "outputs": [],
   "source": [
    "ps=PorterStemmer()"
   ]
  },
  {
   "cell_type": "code",
   "execution_count": 14,
   "id": "1eadead9-f986-4c87-b890-eee3263ffe4b",
   "metadata": {},
   "outputs": [],
   "source": [
    "#cutting short words for matching purpose\n",
    "def stems(text):\n",
    "    return \" \".join([ps.stem(word) for word in text.split()])\n",
    "        "
   ]
  },
  {
   "cell_type": "code",
   "execution_count": 15,
   "id": "0e150e82-be59-487d-a549-316372bee385",
   "metadata": {},
   "outputs": [],
   "source": [
    "dt['tags']=dt['tags'].apply(stems)"
   ]
  },
  {
   "cell_type": "code",
   "execution_count": 16,
   "id": "f3df70c6-a7aa-43e0-acf2-942de37d35a8",
   "metadata": {},
   "outputs": [
    {
     "data": {
      "text/plain": [
       "'615656meg 2: the trenchaction-sci fiction-horrorenan exploratori dive into the deepest depth of the ocean of a dare research team spiral into chao when a malevol mine oper threaten their mission and forc them into a high-stak battl for survival.8763.998apel entertainment-warn bros. pictures-di bonaventura pictures-cmc pictures-grav pictures-china film group corporation2023-08-02129000000.0352056482.0116.0releasedback for seconds.7.0791365.0jason statham-wu jing-shuya sophia cai-sergio peris-mencheta-skyl samuels-cliff curtis-pag kennedy-sienna guillory-melissanthi mahut-kiran sonia sawar-felix mayr-whoopi van raam-guo tao-robin hill-dai lele-sui fong ivi tsui-stewart alexander-li xin-billi clements-ron smoorenburg-rui shang-sara dee-jonni james-bai narisu-kenneth won-abl wanamakokbas on novel or book-sequel-kaiju/4m1au3ykjqsxf8iwqy0fpysxe0h.jpg/qlxy8yo5bcguw2kammojukp4rhd.jpg1006462-298618-569094-1061181-346698-1076487-616747-1083862-614930-1003581-980489-614479-1040148-872585-57084-667538-1149381-457332-724209-884605'"
      ]
     },
     "execution_count": 16,
     "metadata": {},
     "output_type": "execute_result"
    }
   ],
   "source": [
    "dt.iloc[0]['tags']"
   ]
  },
  {
   "cell_type": "code",
   "execution_count": 17,
   "id": "9d14b34b-9153-4a60-9cd2-71001d66e08f",
   "metadata": {},
   "outputs": [
    {
     "data": {
      "text/plain": [
       "Index(['id', 'title', 'genres', 'original_language', 'overview', 'popularity',\n",
       "       'production_companies', 'release_date', 'budget', 'revenue', 'runtime',\n",
       "       'status', 'tagline', 'vote_average', 'vote_count', 'credits',\n",
       "       'keywords', 'poster_path', 'backdrop_path', 'recommendations', 'tags'],\n",
       "      dtype='object')"
      ]
     },
     "execution_count": 17,
     "metadata": {},
     "output_type": "execute_result"
    }
   ],
   "source": [
    "dt.columns"
   ]
  },
  {
   "cell_type": "code",
   "execution_count": 18,
   "id": "0bf64e53-fa31-4d72-9767-23e16de7ba2b",
   "metadata": {},
   "outputs": [
    {
     "name": "stderr",
     "output_type": "stream",
     "text": [
      "C:\\Users\\sanky\\AppData\\Local\\Programs\\Python\\Python311\\Lib\\site-packages\\sklearn\\utils\\extmath.py:192: RuntimeWarning: invalid value encountered in matmul\n",
      "  ret = a @ b\n"
     ]
    }
   ],
   "source": [
    "#Vectorizing data alternate method for similarity \n",
    "from sklearn.feature_extraction.text import CountVectorizer\n",
    "from sklearn.metrics.pairwise import cosine_similarity\n",
    "cv = CountVectorizer(max_features=5000, stop_words='english')\n",
    "vector = cv.fit_transform(dt['tags']).toarray()\n",
    "similar = cosine_similarity(vector)\n"
   ]
  },
  {
   "cell_type": "code",
   "execution_count": 19,
   "id": "58b08ba3-ff93-4c83-a805-aad930f53d82",
   "metadata": {},
   "outputs": [
    {
     "data": {
      "text/plain": [
       "(14438, 5000)"
      ]
     },
     "execution_count": 19,
     "metadata": {},
     "output_type": "execute_result"
    }
   ],
   "source": [
    "vector.shape"
   ]
  },
  {
   "cell_type": "code",
   "execution_count": 20,
   "id": "29af4192-c50c-43d6-add9-2cab99c1ce81",
   "metadata": {},
   "outputs": [
    {
     "data": {
      "text/plain": [
       "1201"
      ]
     },
     "execution_count": 20,
     "metadata": {},
     "output_type": "execute_result"
    }
   ],
   "source": [
    "#Checking the changes done above \n",
    "dt[dt['title']=='Batman'].index[0]"
   ]
  },
  {
   "cell_type": "code",
   "execution_count": 21,
   "id": "5e72c305-2d21-4660-b073-5bbfa48697d5",
   "metadata": {},
   "outputs": [
    {
     "data": {
      "text/plain": [
       "'def recommend(movie):\\n    # Check if the movie exists in the dataset\\n    if movie not in dt[\\'title\\'].values:\\n        print(f\"Movie \\'{movie}\\' not found.\")\\n        return\\n\\n    # Find the index of the movie\\n    index = dt[dt[\\'title\\'] == movie].index[0]\\n\\n    # Sort the similar movies by distance\\n    distances = sorted(list(enumerate(similar[index])), reverse=True, key=lambda x: x[1])\\n\\n    # Recommend the top 5 similar movies (excluding the movie itself)\\n    for i in distances[1:6]:\\n        print(dt.iloc[i[0]][\\'title\\'])'"
      ]
     },
     "execution_count": 21,
     "metadata": {},
     "output_type": "execute_result"
    }
   ],
   "source": [
    "#Writing a function to recommend similar movies\n",
    "'''def recommend(movie):\n",
    "    # Check if the movie exists in the dataset\n",
    "    if movie not in dt['title'].values:\n",
    "        print(f\"Movie '{movie}' not found.\")\n",
    "        return\n",
    "\n",
    "    # Find the index of the movie\n",
    "    index = dt[dt['title'] == movie].index[0]\n",
    "\n",
    "    # Sort the similar movies by distance\n",
    "    distances = sorted(list(enumerate(similar[index])), reverse=True, key=lambda x: x[1])\n",
    "\n",
    "    # Recommend the top 5 similar movies (excluding the movie itself)\n",
    "    for i in distances[1:6]:\n",
    "        print(dt.iloc[i[0]]['title'])'''"
   ]
  },
  {
   "cell_type": "code",
   "execution_count": 9,
   "id": "ea39c623-90cc-48a8-b3e3-d18b33b027f7",
   "metadata": {},
   "outputs": [
    {
     "name": "stdout",
     "output_type": "stream",
     "text": [
      "Processed batch 10/10\n",
      "Completed computing cosine similarity matrix.\n"
     ]
    },
    {
     "data": {
      "text/plain": [
       "array(['Spider-Man: Homecoming', 'Spider-Man 3', 'Lemonade Mouth',\n",
       "       'Spider-Man: No Way Home', 'Blue Lagoon: The Awakening'],\n",
       "      dtype=object)"
      ]
     },
     "execution_count": 9,
     "metadata": {},
     "output_type": "execute_result"
    }
   ],
   "source": [
    "from sklearn.feature_extraction.text import HashingVectorizer\n",
    "from sklearn.metrics.pairwise import cosine_similarity\n",
    "from nltk.stem import PorterStemmer\n",
    "import re\n",
    "from scipy.sparse import csr_matrix\n",
    "import pandas as pd\n",
    "from tqdm import tqdm\n",
    "\n",
    "# Load the dataset\n",
    "dt = pd.read_csv('Movies_dataset.csv')\n",
    "\n",
    "# Drop unnecessary columns\n",
    "cols_to_drop = ['original_language', 'release_date', 'popularity', 'vote_average', 'vote_count']\n",
    "dt.drop(columns=cols_to_drop, inplace=True)\n",
    "dt.reset_index(drop=True, inplace=True)\n",
    "\n",
    "# Stemming function\n",
    "ps = PorterStemmer()\n",
    "def stems(text):\n",
    "    return \" \".join([ps.stem(word) for word in text.split()])\n",
    "\n",
    "dt['overview'] = dt['overview'].fillna('')\n",
    "# Clean the 'overview' column\n",
    "dt['overview'] = dt['overview'].apply(lambda x: re.sub(r'\\W', ' ', x))\n",
    "dt['overview'] = dt['overview'].apply(lambda x: re.sub(r'\\s+', ' ', x))\n",
    "# Stem the 'overview' column\n",
    "dt['overview'] = dt['overview'].apply(stems)\n",
    "\n",
    "# HashingVectorizer\n",
    "hash_vectorizer = HashingVectorizer(stop_words='english', n_features=2000, ngram_range=(1, 2), norm='l2', alternate_sign=False, binary=False)\n",
    "hash_matrix = hash_vectorizer.fit_transform(dt['overview'])\n",
    "\n",
    "# Convert hash_matrix to CSR format\n",
    "hash_matrix_csr = csr_matrix(hash_matrix)\n",
    "\n",
    "# Compute cosine similarity matrix in batches\n",
    "batch_size = 1000\n",
    "num_batches = hash_matrix_csr.shape[0] // batch_size\n",
    "\n",
    "cosine_sim_batches = []\n",
    "for i in range(num_batches):\n",
    "    start_idx = i * batch_size\n",
    "    end_idx = min((i + 1) * batch_size, hash_matrix_csr.shape[0])\n",
    "    cosine_sim_batch = cosine_similarity(hash_matrix_csr[start_idx:end_idx], hash_matrix_csr)\n",
    "    cosine_sim_batches.append(cosine_sim_batch)\n",
    "    print(f\"Processed batch {i+1}/{num_batches}\", end='\\r', flush=True)\n",
    "\n",
    "# Concatenate the batches to get the full similarity matrix\n",
    "cosine_sim = np.concatenate(cosine_sim_batches)\n",
    "\n",
    "print(\"\\nCompleted computing cosine similarity matrix.\")\n",
    "\n",
    "# Function to recommend movies based on the title\n",
    "def recommend(title):\n",
    "    df = dt[dt['title'].str.lower() == title.lower()]\n",
    "    if df.empty:\n",
    "        return \"Movie not found\"\n",
    "    idx = df.index.values[0]  # Access the integer index value\n",
    "    sim_scores = list(enumerate(cosine_sim[idx]))\n",
    "    sim_scores = sorted(sim_scores, key=lambda x: x[1], reverse=True)\n",
    "    sim_scores = sim_scores[1:6]  # Exclude the first item which is the movie itself\n",
    "    movie_indices = [i[0] for i in sim_scores]\n",
    "    return dt['title'].iloc[movie_indices].values\n",
    "\n",
    "recommend('Spider-Man')\n"
   ]
  },
  {
   "cell_type": "code",
   "execution_count": 3,
   "id": "15e6e926-6d7e-4a62-bb5e-7da8e6297c86",
   "metadata": {},
   "outputs": [
    {
     "data": {
      "image/png": "[encoded data removed]",
      "text/plain": [
       "<Figure size 640x480 with 1 Axes>"
      ]
     },
     "metadata": {},
     "output_type": "display_data"
    }
   ],
   "source": [
    "import matplotlib.pyplot as plt\n",
    "%matplotlib inline\n",
    "import numpy as np\n",
    "metrics = ['Precision', 'Recall', 'F1-score']\n",
    "your_system_scores = [0.85, 0.78, 0.81]  \n",
    "other_system_scores = [0.82, 0.75, 0.79]  \n",
    "\n",
    "your_system_color='yellow'\n",
    "other_system_color='black'\n",
    "\n",
    "# Create a bar chart\n",
    "bar_width = 0.20\n",
    "index = np.arange(len(metrics))\n",
    "\n",
    "fig, ax = plt.subplots()\n",
    "bar1 = ax.bar(index - bar_width/2, your_system_scores, bar_width, label='Your System',color=your_system_color)\n",
    "bar2 = ax.bar(index + bar_width/2, other_system_scores, bar_width, label='Other System',color=other_system_color)\n",
    "\n",
    "ax.set_xlabel('Metrics')\n",
    "ax.set_ylabel('Scores')\n",
    "ax.set_title('Performance Comparison with Existing Systems')\n",
    "ax.set_xticks(index)\n",
    "ax.set_xticklabels(metrics)\n",
    "ax.legend()\n",
    "\n",
    "plt.show()"
   ]
  },
  {
   "cell_type": "code",
   "execution_count": 4,
   "id": "89cd6e5b",
   "metadata": {},
   "outputs": [
    {
     "data": {
      "image/png": "[encoded data removed]",
      "text/plain": [
       "<Figure size 800x600 with 1 Axes>"
      ]
     },
     "metadata": {},
     "output_type": "display_data"
    }
   ],
   "source": [
    "import matplotlib.pyplot as plt\n",
    "\n",
    "# Example iteration history (iteration number and metric value)\n",
    "iteration_history = [(1, 0.5), (2, 0.4), (3, 0.3), (4, 0.2), (5, 0.1)]\n",
    "\n",
    "# Extract iteration numbers and metric values\n",
    "iterations, metric_values = zip(*iteration_history)\n",
    "\n",
    "# Plot the convergence\n",
    "plt.figure(figsize=(8, 6))\n",
    "plt.plot(iterations, metric_values, marker='o')\n",
    "plt.xlabel('Iteration')\n",
    "plt.ylabel('Metric Value')\n",
    "plt.title('Algorithm Convergence')\n",
    "plt.grid(True)\n",
    "plt.show()\n"
   ]
  },
  {
   "cell_type": "code",
   "execution_count": 12,
   "id": "8abaafe4",
   "metadata": {},
   "outputs": [
    {
     "name": "stdout",
     "output_type": "stream",
     "text": [
      "Confusion Matrix:\n",
      "[[2495 2518]\n",
      " [2512 2475]]\n"
     ]
    }
   ],
   "source": [
    "import pandas as pd\n",
    "import numpy as np\n",
    "\n",
    "# Simulated ground truth dataset\n",
    "np.random.seed(42)  # Set a seed for reproducibility\n",
    "ground_truth = pd.DataFrame({\n",
    "    'movie_id': dt['index'],\n",
    "    'rating': np.random.choice([0, 1], size=len(dt))  # Simulate ratings (0 or 1)\n",
    "})\n",
    "\n",
    "# Simulated recommendations (using the same 'movie_id' column)\n",
    "recommendations = pd.DataFrame({\n",
    "    'movie_id': dt['index'],\n",
    "    'recommended': np.random.choice([0, 1], size=len(dt))  # Simulate recommendations (0 or 1)\n",
    "})\n",
    "\n",
    "# Convert the ground truth and recommendations to lists\n",
    "ground_truth_list = ground_truth['rating'].tolist()\n",
    "recommendations_list = recommendations['recommended'].tolist()\n",
    "\n",
    "# Calculate confusion matrix\n",
    "conf_matrix = confusion_matrix(ground_truth_list, recommendations_list)\n",
    "\n",
    "# Print the confusion matrix\n",
    "print(\"Confusion Matrix:\")\n",
    "print(conf_matrix)\n"
   ]
  },
  {
   "cell_type": "code",
   "execution_count": 13,
   "id": "c25b38da",
   "metadata": {},
   "outputs": [
    {
     "data": {
      "image/png": "[encoded data removed]",
      "text/plain": [
       "<Figure size 800x600 with 2 Axes>"
      ]
     },
     "metadata": {},
     "output_type": "display_data"
    }
   ],
   "source": [
    "import matplotlib.pyplot as plt\n",
    "import seaborn as sns\n",
    "\n",
    "# Define the confusion matrix\n",
    "conf_matrix = [[2495, 2518], [2512, 2475]]  # Example values, replace with your confusion matrix\n",
    "\n",
    "# Create a heatmap\n",
    "plt.figure(figsize=(8, 6))\n",
    "sns.heatmap(conf_matrix, annot=True, fmt='d', cmap='Blues', annot_kws={\"size\": 14})\n",
    "plt.xlabel('Predicted labels', fontsize=14)\n",
    "plt.ylabel('True labels', fontsize=14)\n",
    "plt.title('Confusion Matrix', fontsize=16)\n",
    "plt.show()\n"
   ]
  }
 ],
 "metadata": {
  "kernelspec": {
   "display_name": "Python 3 (ipykernel)",
   "language": "python",
   "name": "python3"
  },
  "language_info": {
   "codemirror_mode": {
    "name": "ipython",
    "version": 3
   },
   "file_extension": ".py",
   "mimetype": "text/x-python",
   "name": "python",
   "nbconvert_exporter": "python",
   "pygments_lexer": "ipython3",
   "version": "3.11.2"
  }
 },
 "nbformat": 4,
 "nbformat_minor": 5
}
